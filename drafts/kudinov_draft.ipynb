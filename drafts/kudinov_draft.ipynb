{
 "cells": [
  {
   "cell_type": "code",
   "id": "initial_id",
   "metadata": {
    "collapsed": true,
    "ExecuteTime": {
     "end_time": "2024-08-21T10:33:23.370358Z",
     "start_time": "2024-08-21T10:33:22.465868Z"
    }
   },
   "source": "import pandas as pd",
   "outputs": [],
   "execution_count": 1
  },
  {
   "metadata": {
    "ExecuteTime": {
     "end_time": "2024-08-21T10:49:20.332570Z",
     "start_time": "2024-08-21T10:49:20.324818Z"
    }
   },
   "cell_type": "code",
   "source": [
    "Q_AMOUNT = 3\n",
    "\n",
    "df = pd.read_csv('../data/questions.csv', index_col=0)"
   ],
   "id": "614eb0dc4248b590",
   "outputs": [],
   "execution_count": 72
  },
  {
   "metadata": {
    "ExecuteTime": {
     "end_time": "2024-08-21T10:49:20.643670Z",
     "start_time": "2024-08-21T10:49:20.640089Z"
    }
   },
   "cell_type": "code",
   "source": "questions = df.sample(Q_AMOUNT).to_dict(orient='records')",
   "id": "e4f0532821a9eead",
   "outputs": [],
   "execution_count": 73
  },
  {
   "metadata": {
    "ExecuteTime": {
     "end_time": "2024-08-21T10:49:40.090309Z",
     "start_time": "2024-08-21T10:49:40.087641Z"
    }
   },
   "cell_type": "code",
   "source": "df.columns",
   "id": "9d0af00b08ac4631",
   "outputs": [
    {
     "data": {
      "text/plain": [
       "Index(['id', 'category', 'question', 'answer', 'difficulty'], dtype='object')"
      ]
     },
     "execution_count": 76,
     "metadata": {},
     "output_type": "execute_result"
    }
   ],
   "execution_count": 76
  },
  {
   "metadata": {
    "ExecuteTime": {
     "end_time": "2024-08-21T10:49:52.889767Z",
     "start_time": "2024-08-21T10:49:52.884885Z"
    }
   },
   "cell_type": "code",
   "source": [
    "class Test:\n",
    "    def __init__(self):\n",
    "        self.q_amount = Q_AMOUNT\n",
    "        self.questions = questions\n",
    "        self.current_question_index = 0\n",
    "        self.correct_answers = 0\n",
    "\n",
    "    def next_question(self):\n",
    "        if self.current_question_index < len(self.questions):\n",
    "            question = self.questions[self.current_question_index]\n",
    "            return (f\"Категория: {question['category']}\\n\"\n",
    "                    f\"Сложность: {question['difficulty']}\\n\\n\"\n",
    "                    f\"{question['question']}\")\n",
    "        return None\n",
    "\n",
    "    def check_answer(self, answer: str):\n",
    "        current_question = self.questions[self.current_question_index]\n",
    "        if answer.strip().lower() == str(current_question['answer']).strip().lower():\n",
    "            self.correct_answers += 1\n",
    "            return True\n",
    "        return False\n",
    "\n",
    "    def is_completed(self):\n",
    "        return self.current_question_index >= len(self.questions)\n",
    "\n",
    "    def increment_question(self):\n",
    "        self.current_question_index += 1"
   ],
   "id": "85f843b076d4f991",
   "outputs": [],
   "execution_count": 77
  },
  {
   "metadata": {
    "ExecuteTime": {
     "end_time": "2024-08-21T10:49:53.182513Z",
     "start_time": "2024-08-21T10:49:53.179355Z"
    }
   },
   "cell_type": "code",
   "source": "test = Test()",
   "id": "90b79894fcac2bd0",
   "outputs": [],
   "execution_count": 78
  },
  {
   "metadata": {
    "ExecuteTime": {
     "end_time": "2024-08-21T10:49:53.591872Z",
     "start_time": "2024-08-21T10:49:53.589980Z"
    }
   },
   "cell_type": "code",
   "source": "print(test.next_question())",
   "id": "c7c5d304b248aaa8",
   "outputs": [
    {
     "name": "stdout",
     "output_type": "stream",
     "text": [
      "Категория: python и анализ данных\n",
      "Сложность: 3\n",
      "\n",
      "Как обработать все исключения в блоке try-except?\n"
     ]
    }
   ],
   "execution_count": 79
  },
  {
   "metadata": {
    "ExecuteTime": {
     "end_time": "2024-08-21T11:17:14.451403Z",
     "start_time": "2024-08-21T11:17:14.446772Z"
    }
   },
   "cell_type": "code",
   "source": [
    "with open('../api.txt') as f:\n",
    "    api = f.read()"
   ],
   "id": "a6ccd9fb58de56aa",
   "outputs": [],
   "execution_count": 80
  },
  {
   "metadata": {
    "ExecuteTime": {
     "end_time": "2024-08-21T11:17:22.426526Z",
     "start_time": "2024-08-21T11:17:22.422788Z"
    }
   },
   "cell_type": "code",
   "source": "api",
   "id": "8ac269c1c3e8754e",
   "outputs": [
    {
     "data": {
      "text/plain": [
       "'7483493757:AAHuXRNNUGvra7Gis66INJRkWSH8Tk-vBaY'"
      ]
     },
     "execution_count": 81,
     "metadata": {},
     "output_type": "execute_result"
    }
   ],
   "execution_count": 81
  },
  {
   "metadata": {},
   "cell_type": "code",
   "outputs": [],
   "execution_count": null,
   "source": "",
   "id": "702246de0e8097ed"
  }
 ],
 "metadata": {
  "kernelspec": {
   "display_name": "Python 3",
   "language": "python",
   "name": "python3"
  },
  "language_info": {
   "codemirror_mode": {
    "name": "ipython",
    "version": 2
   },
   "file_extension": ".py",
   "mimetype": "text/x-python",
   "name": "python",
   "nbconvert_exporter": "python",
   "pygments_lexer": "ipython2",
   "version": "2.7.6"
  }
 },
 "nbformat": 4,
 "nbformat_minor": 5
}
